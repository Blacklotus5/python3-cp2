{
  "nbformat": 4,
  "nbformat_minor": 0,
  "metadata": {
    "colab": {
      "provenance": [],
      "include_colab_link": true
    },
    "kernelspec": {
      "name": "python3",
      "display_name": "Python 3"
    },
    "language_info": {
      "name": "python"
    }
  },
  "cells": [
    {
      "cell_type": "markdown",
      "metadata": {
        "id": "view-in-github",
        "colab_type": "text"
      },
      "source": [
        "<a href=\"https://colab.research.google.com/github/Blacklotus5/python3-cp2/blob/main/asn_3.ipynb\" target=\"_parent\"><img src=\"https://colab.research.google.com/assets/colab-badge.svg\" alt=\"Open In Colab\"/></a>"
      ]
    },
    {
      "cell_type": "code",
      "execution_count": null,
      "metadata": {
        "colab": {
          "base_uri": "https://localhost:8080/"
        },
        "id": "B0nHegRStJ4E",
        "outputId": "a34daa9a-99d9-43c1-ba27-eac2f456c396"
      },
      "outputs": [
        {
          "output_type": "stream",
          "name": "stdout",
          "text": [
            "Enter number 1 : 64\n",
            "Enter number 2 : 14\n",
            "2\n"
          ]
        }
      ],
      "source": [
        "# 1 Find GCD of numbers\n",
        "x = int(input(\"Enter number 1 : \"))\n",
        "y = int(input(\"Enter number 2 : \"))\n",
        "if (x > y):\n",
        "    while (y != 0):\n",
        "        z = x % y\n",
        "        x = y\n",
        "        y = z\n",
        "    print(x)\n",
        "if (y > x):\n",
        "    while (x != 0):\n",
        "        z = y % x\n",
        "        y = x\n",
        "        x = z\n",
        "    print(y)"
      ]
    },
    {
      "cell_type": "code",
      "source": [
        "# 2 Check size of list of words\n",
        "words = input(\"Enter some words : \")\n",
        "n = int(input(\"Enter size of size of words : \"))\n",
        "words = words.split()\n",
        "for i in range(len(words)):\n",
        "    if (len(words[i]) > n):\n",
        "        print(words[i])"
      ],
      "metadata": {
        "colab": {
          "base_uri": "https://localhost:8080/"
        },
        "id": "b5dGXAWwtgPK",
        "outputId": "e0fe4304-18e3-42f6-88a2-c85b677886e2"
      },
      "execution_count": null,
      "outputs": [
        {
          "output_type": "stream",
          "name": "stdout",
          "text": [
            "Enter some words : The quick brown fox jumped over the lazy dog\n",
            "Enter size of size of words : 4\n",
            "quick\n",
            "brown\n",
            "jumped\n"
          ]
        }
      ]
    },
    {
      "cell_type": "code",
      "source": [
        "# 3 Maximum and minimum frequency character in a given string\n",
        "string = input(\"Enter a string : \")\n",
        "for i in string:\n",
        "  string.count(i) += 1"
      ],
      "metadata": {
        "colab": {
          "base_uri": "https://localhost:8080/",
          "height": 271
        },
        "id": "40dycjYzwbj1",
        "outputId": "f3d2323f-dc63-4ed2-9496-80df0a51614e"
      },
      "execution_count": null,
      "outputs": [
        {
          "name": "stdout",
          "output_type": "stream",
          "text": [
            "Enter a string : fhdshf\n"
          ]
        },
        {
          "output_type": "error",
          "ename": "TypeError",
          "evalue": "list indices must be integers or slices, not str",
          "traceback": [
            "\u001b[0;31m---------------------------------------------------------------------------\u001b[0m",
            "\u001b[0;31mTypeError\u001b[0m                                 Traceback (most recent call last)",
            "\u001b[0;32m<ipython-input-1-1b6e71a0bc40>\u001b[0m in \u001b[0;36m<cell line: 0>\u001b[0;34m()\u001b[0m\n\u001b[1;32m      4\u001b[0m \u001b[0mfreq\u001b[0m \u001b[0;34m=\u001b[0m \u001b[0;34m[\u001b[0m\u001b[0;34m]\u001b[0m\u001b[0;34m\u001b[0m\u001b[0;34m\u001b[0m\u001b[0m\n\u001b[1;32m      5\u001b[0m \u001b[0;32mfor\u001b[0m \u001b[0mi\u001b[0m \u001b[0;32min\u001b[0m \u001b[0mstring\u001b[0m\u001b[0;34m:\u001b[0m\u001b[0;34m\u001b[0m\u001b[0;34m\u001b[0m\u001b[0m\n\u001b[0;32m----> 6\u001b[0;31m   \u001b[0mfreq\u001b[0m\u001b[0;34m[\u001b[0m\u001b[0mi\u001b[0m\u001b[0;34m]\u001b[0m \u001b[0;34m+=\u001b[0m \u001b[0;36m1\u001b[0m\u001b[0;34m\u001b[0m\u001b[0;34m\u001b[0m\u001b[0m\n\u001b[0m\u001b[1;32m      7\u001b[0m   \u001b[0mmax_freq\u001b[0m \u001b[0;34m=\u001b[0m \u001b[0mmax\u001b[0m\u001b[0;34m(\u001b[0m\u001b[0mfreq\u001b[0m\u001b[0;34m.\u001b[0m\u001b[0mvalues\u001b[0m\u001b[0;34m(\u001b[0m\u001b[0;34m)\u001b[0m\u001b[0;34m)\u001b[0m\u001b[0;34m\u001b[0m\u001b[0;34m\u001b[0m\u001b[0m\n\u001b[1;32m      8\u001b[0m   \u001b[0mmin_freq\u001b[0m \u001b[0;34m=\u001b[0m \u001b[0mmin\u001b[0m\u001b[0;34m(\u001b[0m\u001b[0mfreq\u001b[0m\u001b[0;34m.\u001b[0m\u001b[0mvalues\u001b[0m\u001b[0;34m(\u001b[0m\u001b[0;34m)\u001b[0m\u001b[0;34m)\u001b[0m\u001b[0;34m\u001b[0m\u001b[0;34m\u001b[0m\u001b[0m\n",
            "\u001b[0;31mTypeError\u001b[0m: list indices must be integers or slices, not str"
          ]
        }
      ]
    },
    {
      "cell_type": "code",
      "source": [
        "# 4 Find the average, standard deviation, median of a series of numbers entered by the user\n",
        "import math as m\n",
        "num = input(\"Enter the numbers :\")\n",
        "n = int(input(\"Enter the number of numbers : \"))\n",
        "num = num.split()\n",
        "avg = 0\n",
        "for i in range(len(num)): # For calculating average\n",
        "  x = int(num[i])\n",
        "  avg += x\n",
        "avg = avg / n\n",
        "sd = 0\n",
        "print(f\"Average : {avg}\")\n",
        "print(f\"Standard deviation : {sd}\")\n",
        "ascen = []\n",
        "for i in range(len(num)): # For calculating standard deviation\n",
        "  ascen.append(int(num[i])) # Convert string list to int list\n",
        "  sd += (int(num[i]) - avg)**2\n",
        "sd = m.sqrt(sd)\n",
        "ascen.sort()  # Sort the list in ascending order\n",
        "x = 0\n",
        "if (n % 2 == 0):  # Find the median\n",
        "  p = n // 2\n",
        "  x = (ascen[p-1] + ascen[p]) / 2\n",
        "  print(f\"Median : {x}\")\n",
        "else:\n",
        "  p = (n + 1) // 2\n",
        "  print(f\"Median : {ascen[p-1]}\")"
      ],
      "metadata": {
        "colab": {
          "base_uri": "https://localhost:8080/"
        },
        "id": "xWLffXgxHhqj",
        "outputId": "fea225ce-f54b-43f5-b1e7-6849c86a5cf4"
      },
      "execution_count": null,
      "outputs": [
        {
          "output_type": "stream",
          "name": "stdout",
          "text": [
            "Enter the numbers :1 4 2 5 3 6\n",
            "Enter the number of numbers : 6\n",
            "Average : 3.5\n",
            "Standard deviation : 0\n",
            "Median : 3.5\n"
          ]
        }
      ]
    },
    {
      "cell_type": "code",
      "source": [
        "# 5 Grains and chessboard\n",
        "grain = 2**64-1 # GP sum\n",
        "kg = grain / 15432\n",
        "tons = kg / 907.18\n",
        "print(grain)\n",
        "print(f\"Weight of grains is {tons} tons\")"
      ],
      "metadata": {
        "colab": {
          "base_uri": "https://localhost:8080/"
        },
        "id": "WMY2Qm8-NBuO",
        "outputId": "0a4e88df-4722-48d4-82e6-74711487c24b"
      },
      "execution_count": null,
      "outputs": [
        {
          "output_type": "stream",
          "name": "stdout",
          "text": [
            "18446744073709551615\n",
            "Weight of grains in tons 1317662058531.9817\n"
          ]
        }
      ]
    },
    {
      "cell_type": "code",
      "source": [
        "# 6 Goldbach conjecture\n",
        "# x,y = map(int, input(\"Enter two numbers : \").split())\n",
        "def check_prime():\n"
      ],
      "metadata": {
        "colab": {
          "base_uri": "https://localhost:8080/"
        },
        "id": "c6Is2PsJW4Db",
        "outputId": "67b292df-6128-4a7d-d196-e02615271063"
      },
      "execution_count": null,
      "outputs": [
        {
          "output_type": "stream",
          "name": "stdout",
          "text": [
            "Enter a number : 64\n",
            "[3, 4, 5, 5, 5, 6, 6, 7, 7, 7, 7, 7, 8, 8, 8, 8, 9, 9, 9, 9, 9, 9, 10, 10, 10, 10, 10, 10, 11, 11, 11, 11, 11, 11, 11, 11, 11, 12, 12, 12, 12, 12, 12, 13, 13, 13, 13, 13, 13, 13, 13, 13, 13, 13, 14, 14, 14, 14, 14, 14, 14, 14, 14, 14, 15, 15, 15, 15, 15, 15, 15, 15, 15, 15, 15, 16, 16, 16, 16, 16, 16, 16, 16, 16, 16, 16, 17, 17, 17, 17, 17, 17, 17, 17, 17, 17, 17, 17, 17, 17, 17, 18, 18, 18, 18, 18, 18, 18, 18, 18, 18, 18, 18, 19, 19, 19, 19, 19, 19, 19, 19, 19, 19, 19, 19, 19, 19, 19, 19, 19, 20, 20, 20, 20, 20, 20, 20, 20, 20, 20, 20, 20, 20, 20, 21, 21, 21, 21, 21, 21, 21, 21, 21, 21, 21, 21, 21, 21, 21, 21, 21, 22, 22, 22, 22, 22, 22, 22, 22, 22, 22, 22, 22, 22, 22, 22, 22, 22, 22, 23, 23, 23, 23, 23, 23, 23, 23, 23, 23, 23, 23, 23, 23, 23, 23, 23, 23, 23, 23, 23, 24, 24, 24, 24, 24, 24, 24, 24, 24, 24, 24, 24, 24, 24, 24, 24, 25, 25, 25, 25, 25, 25, 25, 25, 25, 25, 25, 25, 25, 25, 25, 25, 25, 25, 25, 25, 25, 25, 26, 26, 26, 26, 26, 26, 26, 26, 26, 26, 26, 26, 26, 26, 26, 26, 26, 26, 26, 26, 26, 26, 27, 27, 27, 27, 27, 27, 27, 27, 27, 27, 27, 27, 27, 27, 27, 27, 27, 27, 27, 27, 27, 27, 27, 28, 28, 28, 28, 28, 28, 28, 28, 28, 28, 28, 28, 28, 28, 28, 28, 28, 28, 28, 28, 28, 28, 29, 29, 29, 29, 29, 29, 29, 29, 29, 29, 29, 29, 29, 29, 29, 29, 29, 29, 29, 29, 29, 29, 29, 29, 29, 29, 29, 30, 30, 30, 30, 30, 30, 30, 30, 30, 30, 30, 30, 30, 30, 30, 30, 30, 30, 30, 30, 30, 30, 31, 31, 31, 31, 31, 31, 31, 31, 31, 31, 31, 31, 31, 31, 31, 31, 31, 31, 31, 31, 31, 31, 31, 31, 31, 31, 31, 31, 31, 32, 32, 32, 32, 32, 32, 32, 32, 32, 32, 32, 32, 32, 32, 32, 32, 32, 32, 32, 32, 32, 32, 32, 32, 32, 32, 33, 33, 33, 33, 33, 33, 33, 33, 33, 33, 33, 33, 33, 33, 33, 33, 33, 33, 33, 33, 33, 33, 33, 33, 33, 33, 33, 33, 33, 34, 34, 34, 34, 34, 34, 34, 34, 34, 34, 34, 34, 34, 34, 34, 34, 34, 34, 34, 34, 34, 34, 34, 34, 34, 34, 34, 34, 34, 34, 35, 35, 35, 35, 35, 35, 35, 35, 35, 35, 35, 35, 35, 35, 35, 35, 35, 35, 35, 35, 35, 35, 35, 35, 35, 35, 35, 35, 35, 35, 35, 36, 36, 36, 36, 36, 36, 36, 36, 36, 36, 36, 36, 36, 36, 36, 36, 36, 36, 36, 36, 36, 36, 36, 36, 36, 36, 36, 37, 37, 37, 37, 37, 37, 37, 37, 37, 37, 37, 37, 37, 37, 37, 37, 37, 37, 37, 37, 37, 37, 37, 37, 37, 37, 37, 37, 37, 37, 37, 37, 37, 37, 37, 38, 38, 38, 38, 38, 38, 38, 38, 38, 38, 38, 38, 38, 38, 38, 38, 38, 38, 38, 38, 38, 38, 38, 38, 38, 38, 38, 38, 38, 38, 38, 38, 38, 38, 39, 39, 39, 39, 39, 39, 39, 39, 39, 39, 39, 39, 39, 39, 39, 39, 39, 39, 39, 39, 39, 39, 39, 39, 39, 39, 39, 39, 39, 39, 39, 39, 39, 39, 39, 40, 40, 40, 40, 40, 40, 40, 40, 40, 40, 40, 40, 40, 40, 40, 40, 40, 40, 40, 40, 40, 40, 40, 40, 40, 40, 40, 40, 40, 40, 40, 40, 41, 41, 41, 41, 41, 41, 41, 41, 41, 41, 41, 41, 41, 41, 41, 41, 41, 41, 41, 41, 41, 41, 41, 41, 41, 41, 41, 41, 41, 41, 41, 41, 41, 41, 41, 41, 41, 41, 41, 42, 42, 42, 42, 42, 42, 42, 42, 42, 42, 42, 42, 42, 42, 42, 42, 42, 42, 42, 42, 42, 42, 42, 42, 42, 42, 42, 42, 42, 42, 42, 42, 42, 42, 43, 43, 43, 43, 43, 43, 43, 43, 43, 43, 43, 43, 43, 43, 43, 43, 43, 43, 43, 43, 43, 43, 43, 43, 43, 43, 43, 43, 43, 43, 43, 43, 43, 43, 43, 43, 43, 43, 43, 43, 43, 44, 44, 44, 44, 44, 44, 44, 44, 44, 44, 44, 44, 44, 44, 44, 44, 44, 44, 44, 44, 44, 44, 44, 44, 44, 44, 44, 44, 44, 44, 44, 44, 44, 44, 44, 44, 44, 44, 45, 45, 45, 45, 45, 45, 45, 45, 45, 45, 45, 45, 45, 45, 45, 45, 45, 45, 45, 45, 45, 45, 45, 45, 45, 45, 45, 45, 45, 45, 45, 45, 45, 45, 45, 45, 45, 45, 45, 46, 46, 46, 46, 46, 46, 46, 46, 46, 46, 46, 46, 46, 46, 46, 46, 46, 46, 46, 46, 46, 46, 46, 46, 46, 46, 46, 46, 46, 46, 46, 46, 46, 46, 46, 46, 46, 46, 46, 46, 46, 46, 47, 47, 47, 47, 47, 47, 47, 47, 47, 47, 47, 47, 47, 47, 47, 47, 47, 47, 47, 47, 47, 47, 47, 47, 47, 47, 47, 47, 47, 47, 47, 47, 47, 47, 47, 47, 47, 47, 47, 47, 47, 47, 47, 47, 47, 48, 48, 48, 48, 48, 48, 48, 48, 48, 48, 48, 48, 48, 48, 48, 48, 48, 48, 48, 48, 48, 48, 48, 48, 48, 48, 48, 48, 48, 48, 48, 48, 48, 48, 48, 48, 48, 48, 49, 49, 49, 49, 49, 49, 49, 49, 49, 49, 49, 49, 49, 49, 49, 49, 49, 49, 49, 49, 49, 49, 49, 49, 49, 49, 49, 49, 49, 49, 49, 49, 49, 49, 49, 49, 49, 49, 49, 49, 49, 49, 49, 49, 49, 49, 50, 50, 50, 50, 50, 50, 50, 50, 50, 50, 50, 50, 50, 50, 50, 50, 50, 50, 50, 50, 50, 50, 50, 50, 50, 50, 50, 50, 50, 50, 50, 50, 50, 50, 50, 50, 50, 50, 50, 50, 50, 50, 50, 50, 51, 51, 51, 51, 51, 51, 51, 51, 51, 51, 51, 51, 51, 51, 51, 51, 51, 51, 51, 51, 51, 51, 51, 51, 51, 51, 51, 51, 51, 51, 51, 51, 51, 51, 51, 51, 51, 51, 51, 51, 51, 51, 51, 51, 51, 51, 51, 52, 52, 52, 52, 52, 52, 52, 52, 52, 52, 52, 52, 52, 52, 52, 52, 52, 52, 52, 52, 52, 52, 52, 52, 52, 52, 52, 52, 52, 52, 52, 52, 52, 52, 52, 52, 52, 52, 52, 52, 52, 52, 52, 52, 52, 52, 53, 53, 53, 53, 53, 53, 53, 53, 53, 53, 53, 53, 53, 53, 53, 53, 53, 53, 53, 53, 53, 53, 53, 53, 53, 53, 53, 53, 53, 53, 53, 53, 53, 53, 53, 53, 53, 53, 53, 53, 53, 53, 53, 53, 53, 53, 53, 53, 53, 53, 53, 54, 54, 54, 54, 54, 54, 54, 54, 54, 54, 54, 54, 54, 54, 54, 54, 54, 54, 54, 54, 54, 54, 54, 54, 54, 54, 54, 54, 54, 54, 54, 54, 54, 54, 54, 54, 54, 54, 54, 54, 54, 54, 54, 54, 54, 54, 55, 55, 55, 55, 55, 55, 55, 55, 55, 55, 55, 55, 55, 55, 55, 55, 55, 55, 55, 55, 55, 55, 55, 55, 55, 55, 55, 55, 55, 55, 55, 55, 55, 55, 55, 55, 55, 55, 55, 55, 55, 55, 55, 55, 55, 55, 55, 55, 55, 55, 55, 56, 56, 56, 56, 56, 56, 56, 56, 56, 56, 56, 56, 56, 56, 56, 56, 56, 56, 56, 56, 56, 56, 56, 56, 56, 56, 56, 56, 56, 56, 56, 56, 56, 56, 56, 56, 56, 56, 56, 56, 56, 56, 56, 56, 56, 56, 56, 56, 57, 57, 57, 57, 57, 57, 57, 57, 57, 57, 57, 57, 57, 57, 57, 57, 57, 57, 57, 57, 57, 57, 57, 57, 57, 57, 57, 57, 57, 57, 57, 57, 57, 57, 57, 57, 57, 57, 57, 57, 57, 57, 57, 57, 57, 57, 57, 57, 57, 57, 57, 57, 57, 58, 58, 58, 58, 58, 58, 58, 58, 58, 58, 58, 58, 58, 58, 58, 58, 58, 58, 58, 58, 58, 58, 58, 58, 58, 58, 58, 58, 58, 58, 58, 58, 58, 58, 58, 58, 58, 58, 58, 58, 58, 58, 58, 58, 58, 58, 58, 58, 58, 58, 58, 58, 58, 58, 59, 59, 59, 59, 59, 59, 59, 59, 59, 59, 59, 59, 59, 59, 59, 59, 59, 59, 59, 59, 59, 59, 59, 59, 59, 59, 59, 59, 59, 59, 59, 59, 59, 59, 59, 59, 59, 59, 59, 59, 59, 59, 59, 59, 59, 59, 59, 59, 59, 59, 59, 59, 59, 59, 59, 59, 59, 60, 60, 60, 60, 60, 60, 60, 60, 60, 60, 60, 60, 60, 60, 60, 60, 60, 60, 60, 60, 60, 60, 60, 60, 60, 60, 60, 60, 60, 60, 60, 60, 60, 60, 60, 60, 60, 60, 60, 60, 60, 60, 60, 60, 60, 60, 60, 60, 61, 61, 61, 61, 61, 61, 61, 61, 61, 61, 61, 61, 61, 61, 61, 61, 61, 61, 61, 61, 61, 61, 61, 61, 61, 61, 61, 61, 61, 61, 61, 61, 61, 61, 61, 61, 61, 61, 61, 61, 61, 61, 61, 61, 61, 61, 61, 61, 61, 61, 61, 61, 61, 61, 61, 61, 61, 61, 61, 62, 62, 62, 62, 62, 62, 62, 62, 62, 62, 62, 62, 62, 62, 62, 62, 62, 62, 62, 62, 62, 62, 62, 62, 62, 62, 62, 62, 62, 62, 62, 62, 62, 62, 62, 62, 62, 62, 62, 62, 62, 62, 62, 62, 62, 62, 62, 62, 62, 62, 62, 62, 62, 62, 62, 62, 62, 62, 63, 63, 63, 63, 63, 63, 63, 63, 63, 63, 63, 63, 63, 63, 63, 63, 63, 63, 63, 63, 63, 63, 63, 63, 63, 63, 63, 63, 63, 63, 63, 63, 63, 63, 63, 63, 63, 63, 63, 63, 63, 63, 63, 63, 63, 63, 63, 63, 63, 63, 63, 63, 63, 63, 63, 63, 63]\n"
          ]
        }
      ]
    },
    {
      "cell_type": "code",
      "source": [
        "# Matrix Addition\n",
        "x1,x2,x3 = map(int, input(\"Enter row 1 elements numbers of matrix 1 : \").split())\n",
        "x4,x5,x6 = map(int, input(\"Enter row 2 elements numbers of matrix 1: \").split())\n",
        "x7,x8,x9 = map(int, input(\"Enter row 3 elements numbers of matrix 1: \").split())\n",
        "mat1 = [[x1,x2,x3],\n",
        "        [x4,x5,x6],\n",
        "        [x7,x8,x9]]\n",
        "y1,y2,y3 = map(int, input(\"Enter row 1 elements numbers of matrix 2: \").split())\n",
        "y4,y5,y6 = map(int, input(\"Enter row 2 elements numbers of matrix 2: \").split())\n",
        "y7,y8,y9 = map(int, input(\"Enter row 3 elements numbers of matrix 2: \").split())\n",
        "mat2 = [[y1,y2,y3],\n",
        "        [y4,y5,y6],\n",
        "        [y7,y8,y9]]\n",
        "\n",
        "mat3 = [[0, 0, 0],\n",
        "        [0, 0, 0],\n",
        "        [0, 0, 0]]\n",
        "\n",
        "for i in range(3):\n",
        "  for j in range(3):\n",
        "    mat3[i][j] = mat1[i][j] + mat2[i][j]\n",
        "\n",
        "for k in mat3:\n",
        "  print(k)"
      ],
      "metadata": {
        "colab": {
          "base_uri": "https://localhost:8080/"
        },
        "id": "RBmFk5SAcvJ2",
        "outputId": "bd3ef0d2-38cb-4666-b2f1-7443cb4acca6"
      },
      "execution_count": null,
      "outputs": [
        {
          "output_type": "stream",
          "name": "stdout",
          "text": [
            "Enter row 1 elements numbers : 4 7 8\n",
            "Enter row 2 elements numbers : 9 5 6\n",
            "Enter row 3 elements numbers : 3 5 7\n",
            "Enter row 1 elements numbers : 1 4 5\n",
            "Enter row 2 elements numbers : 3 2 1\n",
            "Enter row 3 elements numbers : 4 5 8\n",
            "[5, 11, 13]\n",
            "[12, 7, 7]\n",
            "[7, 10, 15]\n"
          ]
        }
      ]
    },
    {
      "cell_type": "code",
      "source": [
        "# 8 Matrix multiplication\n",
        "x1,x2,x3 = map(int, input(\"Enter row 1 elements numbers of matrix 1 : \").split())\n",
        "x4,x5,x6 = map(int, input(\"Enter row 2 elements numbers of matrix 1: \").split())\n",
        "x7,x8,x9 = map(int, input(\"Enter row 3 elements numbers of matrix 1: \").split())\n",
        "mat1 = [[x1,x2,x3],\n",
        "        [x4,x5,x6],\n",
        "        [x7,x8,x9]]\n",
        "y1,y2,y3 = map(int, input(\"Enter row 1 elements numbers of matrix 2: \").split())\n",
        "y4,y5,y6 = map(int, input(\"Enter row 2 elements numbers of matrix 2: \").split())\n",
        "y7,y8,y9 = map(int, input(\"Enter row 3 elements numbers of matrix 2: \").split())\n",
        "mat2 = [[y1,y2,y3],\n",
        "        [y4,y5,y6],\n",
        "        [y7,y8,y9]]\n",
        "\n",
        "mat3 = [[0, 0, 0],\n",
        "        [0, 0, 0],\n",
        "        [0, 0, 0]]\n",
        "\n",
        "for i in range(3):\n",
        "  for j in range(3):\n",
        "    sum = 0\n",
        "    for k in range(3):\n",
        "      sum += mat1[i][k]*mat2[k][j]\n",
        "      mat3[i][j] = sum\n",
        "\n",
        "for h in mat3:\n",
        "  print(h)\n"
      ],
      "metadata": {
        "id": "FvJucWkxfs3v",
        "colab": {
          "base_uri": "https://localhost:8080/"
        },
        "outputId": "e68fd24c-b1af-43fa-a369-47748da65a71"
      },
      "execution_count": null,
      "outputs": [
        {
          "output_type": "stream",
          "name": "stdout",
          "text": [
            "Enter row 1 elements numbers of matrix 1 : 1 4 8\n",
            "Enter row 2 elements numbers of matrix 1: 6 5 4\n",
            "Enter row 3 elements numbers of matrix 1: 2 5 8\n",
            "Enter row 1 elements numbers of matrix 2: 3 2 1\n",
            "Enter row 2 elements numbers of matrix 2: 1 4 5\n",
            "Enter row 3 elements numbers of matrix 2: 3 2 1\n",
            "[31, 34, 29]\n",
            "[35, 40, 35]\n",
            "[35, 40, 35]\n"
          ]
        }
      ]
    },
    {
      "cell_type": "code",
      "source": [
        "# 9 The Sieve of Eratosthenes algorithm\n",
        "def sieveoferatosthenes(n):\n",
        "  prime = [True for i in range(n+1)]  # Create a boolean array mark all entries as true\n",
        "  p = 2\n",
        "  while (p * p <= n):\n",
        "    if (prime[p] == True):\n",
        "      for i in range(p * p, n+1, p):\n",
        "        prime[i] = False\n",
        "    p += 1\n",
        "\n",
        "  for p in range(2, n+1):\n",
        "    if prime[p]:\n",
        "      print(p, end = ', ')\n",
        "\n",
        "n = int(input(\"Enter a number : \"))\n",
        "sieveoferatosthenes(n)"
      ],
      "metadata": {
        "colab": {
          "base_uri": "https://localhost:8080/"
        },
        "id": "RofZgin3gQVm",
        "outputId": "7f1f455b-88bf-44b7-ec5b-2b4bcb3f0bd7"
      },
      "execution_count": null,
      "outputs": [
        {
          "output_type": "stream",
          "name": "stdout",
          "text": [
            "Enter a number : 64\n",
            "2, 3, 5, 7, 11, 13, 17, 19, 23, 29, 31, 37, 41, 43, 47, 53, 59, 61, "
          ]
        }
      ]
    },
    {
      "cell_type": "code",
      "source": [
        "# 10 Solve simultaneous equations 3 variables\n",
        "import numpy as np\n",
        "a1,b1,c1,d1 = map(int, input(\"Enter a1,b1,c1,d1 : \").split())\n",
        "a2,b2,c2,d2 = map(int, input(\"Enter a2,b2,c2,d2 : \").split())\n",
        "a3,b3,c3,d3 = map(int, input(\"Enter a3,b3,c3,d3 : \").split())\n",
        "mat = np.array([[a1,b1,c1],\n",
        "        [a2,b2,c2],\n",
        "        [a3,b3,c3]])\n",
        "mat1 = np.array([[d1,b1,c1],\n",
        "        [d2,b2,c2],\n",
        "        [d3,b3,c3]])\n",
        "mat2 = np.array([[a1,d1,c1],\n",
        "        [a2,d2,c2],\n",
        "        [a3,d3,c3]])\n",
        "mat3 = np.array([[a1,b1,d1],\n",
        "        [a2,b2,d2],\n",
        "        [a3,b3,d3]])\n",
        "det = np.linalg.det(mat)\n",
        "det1 = np.linalg.det(mat1)\n",
        "det2 = np.linalg.det(mat2)\n",
        "det3 = np.linalg.det(mat3)\n",
        "\n",
        "if det == 0:\n",
        "  if det1 == 0 and det2 == 0 and det3 == 0:\n",
        "    print(\"infinite solutions\")\n",
        "  else:\n",
        "    print(\"inconsistent\")\n",
        "else:\n",
        "  x = det1 / det\n",
        "  y = det2 / det\n",
        "  z = det3 / det\n",
        "\n",
        "print(f\"x = {x}\")\n",
        "print(f\"y = {y}\")\n",
        "print(f\"z = {z}\")"
      ],
      "metadata": {
        "id": "tNtacNt9geBm",
        "colab": {
          "base_uri": "https://localhost:8080/"
        },
        "outputId": "cc4a885d-acec-4cd9-a6c5-7d41bcf944f5"
      },
      "execution_count": null,
      "outputs": [
        {
          "output_type": "stream",
          "name": "stdout",
          "text": [
            "Enter a1,b1,c1,d1 : 1 3 -2 10\n",
            "Enter a2,b2,c2,d2 : 2 -1 6 3\n",
            "Enter a3,b3,c3,d3 : 1 1 -2 5\n",
            "x = 2.5999999999999996\n",
            "y = 2.5\n",
            "z = 0.049999999999999815\n"
          ]
        }
      ]
    }
  ]
}